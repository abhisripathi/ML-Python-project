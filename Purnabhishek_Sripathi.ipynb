{
  "nbformat": 4,
  "nbformat_minor": 0,
  "metadata": {
    "colab": {
      "name": "Purnabhishek Sripathi.ipynb",
      "provenance": [],
      "collapsed_sections": [],
      "authorship_tag": "ABX9TyPwX60tYlBe2VrtSp5oYevR",
      "include_colab_link": true
    },
    "kernelspec": {
      "name": "python3",
      "display_name": "Python 3"
    }
  },
  "cells": [
    {
      "cell_type": "markdown",
      "metadata": {
        "id": "view-in-github",
        "colab_type": "text"
      },
      "source": [
        "<a href=\"https://colab.research.google.com/github/abhisripathi/ML-Python-project/blob/main/Purnabhishek_Sripathi.ipynb\" target=\"_parent\"><img src=\"https://colab.research.google.com/assets/colab-badge.svg\" alt=\"Open In Colab\"/></a>"
      ]
    },
    {
      "cell_type": "markdown",
      "metadata": {
        "id": "eGXnn4wat-MJ"
      },
      "source": [
        "**Importing libraries**"
      ]
    },
    {
      "cell_type": "code",
      "metadata": {
        "id": "UVLu0NGdUfTX"
      },
      "source": [
        "import pandas as pd\r\n",
        "import numpy as np"
      ],
      "execution_count": 48,
      "outputs": []
    },
    {
      "cell_type": "markdown",
      "metadata": {
        "id": "v3PzbA-KuIKv"
      },
      "source": [
        "We use iris data included in scikit-learn.\r\n",
        "\r\n",
        "we use load_iris() function that loads iris dataset. "
      ]
    },
    {
      "cell_type": "code",
      "metadata": {
        "id": "HsoQEYHBU1E2"
      },
      "source": [
        "from sklearn.datasets import load_iris\r\n",
        "iris_dataset = load_iris()"
      ],
      "execution_count": 49,
      "outputs": []
    },
    {
      "cell_type": "code",
      "metadata": {
        "colab": {
          "base_uri": "https://localhost:8080/"
        },
        "id": "NeLQ4ga9VHab",
        "outputId": "19b673dd-d2cb-4475-a6b1-4fe95d27418c"
      },
      "source": [
        "print(\"keys of iris_dataset: \\n{}\" .format(iris_dataset.keys()))\r\n"
      ],
      "execution_count": 50,
      "outputs": [
        {
          "output_type": "stream",
          "text": [
            "keys of iris_dataset: \n",
            "dict_keys(['data', 'target', 'target_names', 'DESCR', 'feature_names', 'filename'])\n"
          ],
          "name": "stdout"
        }
      ]
    },
    {
      "cell_type": "markdown",
      "metadata": {
        "id": "KT9EkMAbvJcL"
      },
      "source": [
        "The value of the key **DESCR** is a short description of the dataset.\r\n",
        "\r\n",
        "Let's see what it contains."
      ]
    },
    {
      "cell_type": "code",
      "metadata": {
        "colab": {
          "base_uri": "https://localhost:8080/"
        },
        "id": "xl5vv9heVVqs",
        "outputId": "89ebc63a-b14a-47c7-f335-bbb7967f3a7a"
      },
      "source": [
        "print(iris_dataset['DESCR'][:193] + \"\\n...\")"
      ],
      "execution_count": 51,
      "outputs": [
        {
          "output_type": "stream",
          "text": [
            ".. _iris_dataset:\n",
            "\n",
            "Iris plants dataset\n",
            "--------------------\n",
            "\n",
            "**Data Set Characteristics:**\n",
            "\n",
            "    :Number of Instances: 150 (50 in each of three classes)\n",
            "    :Number of Attributes: 4 numeric, pre\n",
            "...\n"
          ],
          "name": "stdout"
        }
      ]
    },
    {
      "cell_type": "code",
      "metadata": {
        "colab": {
          "base_uri": "https://localhost:8080/"
        },
        "id": "fCSKgh6hV6FO",
        "outputId": "e34a6d4d-86d1-44b2-a05b-1c3de0e26ce8"
      },
      "source": [
        "print(\"Target names: {}\" .format(iris_dataset['target_names']))"
      ],
      "execution_count": 52,
      "outputs": [
        {
          "output_type": "stream",
          "text": [
            "Target names: ['setosa' 'versicolor' 'virginica']\n"
          ],
          "name": "stdout"
        }
      ]
    },
    {
      "cell_type": "code",
      "metadata": {
        "colab": {
          "base_uri": "https://localhost:8080/"
        },
        "id": "ypjjPH55WWEF",
        "outputId": "30daa008-f971-4c5e-9a86-0c376ba796b3"
      },
      "source": [
        "print(\"Feature names: \\n{}\" .format(iris_dataset['feature_names']))"
      ],
      "execution_count": 53,
      "outputs": [
        {
          "output_type": "stream",
          "text": [
            "Feature names: \n",
            "['sepal length (cm)', 'sepal width (cm)', 'petal length (cm)', 'petal width (cm)']\n"
          ],
          "name": "stdout"
        }
      ]
    },
    {
      "cell_type": "code",
      "metadata": {
        "colab": {
          "base_uri": "https://localhost:8080/"
        },
        "id": "WHsT4FLKW_eL",
        "outputId": "a0a4a3af-ec77-42b9-f6d8-8b97cadd78f3"
      },
      "source": [
        "print(\"Type of data: {}\" .format(type(iris_dataset['data'])))"
      ],
      "execution_count": 54,
      "outputs": [
        {
          "output_type": "stream",
          "text": [
            "Type of data: <class 'numpy.ndarray'>\n"
          ],
          "name": "stdout"
        }
      ]
    },
    {
      "cell_type": "code",
      "metadata": {
        "colab": {
          "base_uri": "https://localhost:8080/"
        },
        "id": "ymd-lmONXQ1D",
        "outputId": "bfd8d88e-cf1b-4742-892d-05605e0b3075"
      },
      "source": [
        "print(\"Shape of data {}\" .format(iris_dataset['data'].shape))"
      ],
      "execution_count": 55,
      "outputs": [
        {
          "output_type": "stream",
          "text": [
            "Shape of data (150, 4)\n"
          ],
          "name": "stdout"
        }
      ]
    },
    {
      "cell_type": "code",
      "metadata": {
        "colab": {
          "base_uri": "https://localhost:8080/"
        },
        "id": "kBteK5mKXcmj",
        "outputId": "e46ecd18-12ac-4a78-ec2a-bcf62a46b67c"
      },
      "source": [
        "print(\"First five columns of data :\\n{}\" .format(iris_dataset['data'][:5]))"
      ],
      "execution_count": 56,
      "outputs": [
        {
          "output_type": "stream",
          "text": [
            "First five columns of data :\n",
            "[[5.1 3.5 1.4 0.2]\n",
            " [4.9 3.  1.4 0.2]\n",
            " [4.7 3.2 1.3 0.2]\n",
            " [4.6 3.1 1.5 0.2]\n",
            " [5.  3.6 1.4 0.2]]\n"
          ],
          "name": "stdout"
        }
      ]
    },
    {
      "cell_type": "code",
      "metadata": {
        "colab": {
          "base_uri": "https://localhost:8080/"
        },
        "id": "J-vojMloXvu4",
        "outputId": "3c8e61ad-b0e5-4dbc-cbca-e15b907c5373"
      },
      "source": [
        "print(\"Type of target: {}\" .format(iris_dataset['target']))"
      ],
      "execution_count": 57,
      "outputs": [
        {
          "output_type": "stream",
          "text": [
            "Type of target: [0 0 0 0 0 0 0 0 0 0 0 0 0 0 0 0 0 0 0 0 0 0 0 0 0 0 0 0 0 0 0 0 0 0 0 0 0\n",
            " 0 0 0 0 0 0 0 0 0 0 0 0 0 1 1 1 1 1 1 1 1 1 1 1 1 1 1 1 1 1 1 1 1 1 1 1 1\n",
            " 1 1 1 1 1 1 1 1 1 1 1 1 1 1 1 1 1 1 1 1 1 1 1 1 1 1 2 2 2 2 2 2 2 2 2 2 2\n",
            " 2 2 2 2 2 2 2 2 2 2 2 2 2 2 2 2 2 2 2 2 2 2 2 2 2 2 2 2 2 2 2 2 2 2 2 2 2\n",
            " 2 2]\n"
          ],
          "name": "stdout"
        }
      ]
    },
    {
      "cell_type": "code",
      "metadata": {
        "colab": {
          "base_uri": "https://localhost:8080/"
        },
        "id": "pDcCe9orYA-j",
        "outputId": "76dee5ef-1f9e-434e-f19c-e80a87758c90"
      },
      "source": [
        "print(\"Shape of target: {}\" .format(iris_dataset['target'].shape))"
      ],
      "execution_count": 58,
      "outputs": [
        {
          "output_type": "stream",
          "text": [
            "Shape of target: (150,)\n"
          ],
          "name": "stdout"
        }
      ]
    },
    {
      "cell_type": "markdown",
      "metadata": {
        "id": "r7w6pj8VhJpz"
      },
      "source": [
        "Now we do Training and Testing of data.\r\n",
        "Here we import train-test_split() method from sklearn library to divide the data set into subsets.\r\n",
        "\r\n",
        "X_train X-test represents \"Features\", and y-train, y_test represents \"Labels\".\r\n",
        "X_train contains 75% of the rows of the dataset, and X_test contains the remaining 25%."
      ]
    },
    {
      "cell_type": "code",
      "metadata": {
        "id": "L8av7oo3YRmS"
      },
      "source": [
        "from sklearn.model_selection import train_test_split\r\n",
        "X_train, X_test, y_train, y_test=train_test_split(\r\n",
        "    iris_dataset['data'], iris_dataset['target'], random_state=0)"
      ],
      "execution_count": 59,
      "outputs": []
    },
    {
      "cell_type": "markdown",
      "metadata": {
        "id": "swCr2KSvjY87"
      },
      "source": [
        "Let's see the shape"
      ]
    },
    {
      "cell_type": "code",
      "metadata": {
        "colab": {
          "base_uri": "https://localhost:8080/"
        },
        "id": "EyI15girgari",
        "outputId": "e03fd231-6b68-42e3-d708-9916a6da49d3"
      },
      "source": [
        "print(\"X_train shape: {}\".format(X_train.shape))\r\n",
        "print(\"y_train shape: {}\".format(y_train.shape))\r\n",
        "print(\"X_test shape: {}\".format(X_test.shape))\r\n",
        "print(\"y_test shape: {}\".format(y_test.shape)) "
      ],
      "execution_count": 60,
      "outputs": [
        {
          "output_type": "stream",
          "text": [
            "X_train shape: (112, 4)\n",
            "y_train shape: (112,)\n",
            "X_test shape: (38, 4)\n",
            "y_test shape: (38,)\n"
          ],
          "name": "stdout"
        }
      ]
    },
    {
      "cell_type": "markdown",
      "metadata": {
        "id": "O48fJA5Mk8-3"
      },
      "source": [
        "We will make a Machine Learning Model. \r\n",
        "We use K-nearest neighbor algorithm\r\n",
        "\r\n",
        "The k-nearest neighbors (KNN) algorithm  a simple, supervised machine learning algorithm that can be used to solve both classification and regression problems."
      ]
    },
    {
      "cell_type": "markdown",
      "metadata": {
        "id": "CR2Y8O-QlnYP"
      },
      "source": [
        "The most important parameter is number of neighbors it is set to 1."
      ]
    },
    {
      "cell_type": "code",
      "metadata": {
        "id": "pQHxdovsg_vW"
      },
      "source": [
        "from sklearn.neighbors import KNeighborsClassifier\r\n",
        "knn=KNeighborsClassifier(n_neighbors=1)"
      ],
      "execution_count": 61,
      "outputs": []
    },
    {
      "cell_type": "markdown",
      "metadata": {
        "id": "1_tFOqvjl8WJ"
      },
      "source": [
        "Now we will Train the data.\r\n",
        "\r\n",
        "It is like giving book to student to learn/study."
      ]
    },
    {
      "cell_type": "code",
      "metadata": {
        "colab": {
          "base_uri": "https://localhost:8080/"
        },
        "id": "TdmI2wMgliQ4",
        "outputId": "ba0105f9-8b57-4a7f-ef94-5b993e30056f"
      },
      "source": [
        "knn.fit(X_train,y_train)"
      ],
      "execution_count": 62,
      "outputs": [
        {
          "output_type": "execute_result",
          "data": {
            "text/plain": [
              "KNeighborsClassifier(algorithm='auto', leaf_size=30, metric='minkowski',\n",
              "                     metric_params=None, n_jobs=None, n_neighbors=1, p=2,\n",
              "                     weights='uniform')"
            ]
          },
          "metadata": {
            "tags": []
          },
          "execution_count": 62
        }
      ]
    },
    {
      "cell_type": "markdown",
      "metadata": {
        "id": "HtvNDqLYme01"
      },
      "source": [
        "**Making Predictions.**\r\n",
        "\r\n",
        "Whether perticular prediction is correct or wrong.\r\n",
        "\r\n",
        "\r\n",
        "New species of flower data is sent."
      ]
    },
    {
      "cell_type": "code",
      "metadata": {
        "colab": {
          "base_uri": "https://localhost:8080/"
        },
        "id": "FMg_8b19mW-w",
        "outputId": "ed150932-5d0a-4e58-8811-84478a5831ec"
      },
      "source": [
        "X_new = np.array([[5, 2.9, 1, 0.2]])\r\n",
        "print(\"X_new.shape: {}\".format(X_new.shape))"
      ],
      "execution_count": 63,
      "outputs": [
        {
          "output_type": "stream",
          "text": [
            "X_new.shape: (1, 4)\n"
          ],
          "name": "stdout"
        }
      ]
    },
    {
      "cell_type": "markdown",
      "metadata": {
        "id": "kyEtXklDnm8o"
      },
      "source": [
        "scikit-learn always expects two-dimensional arrays for the data."
      ]
    },
    {
      "cell_type": "markdown",
      "metadata": {
        "id": "R8j4MaREoP_C"
      },
      "source": [
        "**Doing prediction.**\r\n",
        "\r\n",
        "We will call the predict method of the knn object."
      ]
    },
    {
      "cell_type": "code",
      "metadata": {
        "colab": {
          "base_uri": "https://localhost:8080/"
        },
        "id": "qDX-Z5RpnYfN",
        "outputId": "e4f240e4-4a0f-4cae-f6b1-d28cbe10050b"
      },
      "source": [
        "prediction = knn.predict(X_new)\r\n",
        "print(\"Prediction: {}\".format(prediction))\r\n",
        "print(\"Predicted target name: {}\".format(\r\n",
        "    iris_dataset['target_names'][prediction]))"
      ],
      "execution_count": 64,
      "outputs": [
        {
          "output_type": "stream",
          "text": [
            "Prediction: [0]\n",
            "Predicted target name: ['setosa']\n"
          ],
          "name": "stdout"
        }
      ]
    },
    {
      "cell_type": "markdown",
      "metadata": {
        "id": "LVKmBrqPpXXS"
      },
      "source": [
        "**Prediction by model**\r\n",
        "\r\n",
        "test set predictions"
      ]
    },
    {
      "cell_type": "code",
      "metadata": {
        "colab": {
          "base_uri": "https://localhost:8080/"
        },
        "id": "zegt7j8Fo2yD",
        "outputId": "4206a529-b64f-4a7e-e9aa-3135f3ede3d0"
      },
      "source": [
        "y_pred = knn.predict(X_test)\r\n",
        "print(\"Test set predictions:\\n {}\".format(y_pred))"
      ],
      "execution_count": 65,
      "outputs": [
        {
          "output_type": "stream",
          "text": [
            "Test set predictions:\n",
            " [2 1 0 2 0 2 0 1 1 1 2 1 1 1 1 0 1 1 0 0 2 1 0 0 2 0 0 1 1 0 2 1 0 2 2 1 0\n",
            " 2]\n"
          ],
          "name": "stdout"
        }
      ]
    },
    {
      "cell_type": "markdown",
      "metadata": {
        "id": "ZjgpB4Tmp7p0"
      },
      "source": [
        "These are the test set predictions from our model."
      ]
    },
    {
      "cell_type": "markdown",
      "metadata": {
        "id": "RNahTWBaqE-F"
      },
      "source": [
        "**Need to check whether the predictions are correct or not**\r\n",
        "\r\n",
        "we do mean of everything to get accuracy"
      ]
    },
    {
      "cell_type": "code",
      "metadata": {
        "colab": {
          "base_uri": "https://localhost:8080/"
        },
        "id": "gQvTAd3Bp37C",
        "outputId": "532c149a-a64a-4301-eaca-b3f9109d0399"
      },
      "source": [
        "print(\"Test set score:{}\" .format(np.mean(y_pred==y_test)))"
      ],
      "execution_count": 66,
      "outputs": [
        {
          "output_type": "stream",
          "text": [
            "Test set score:0.9736842105263158\n"
          ],
          "name": "stdout"
        }
      ]
    },
    {
      "cell_type": "code",
      "metadata": {
        "id": "VSv_qHqYqnLu"
      },
      "source": [
        ""
      ],
      "execution_count": 66,
      "outputs": []
    }
  ]
}